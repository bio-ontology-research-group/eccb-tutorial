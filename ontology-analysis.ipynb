{
 "cells": [
  {
   "cell_type": "markdown",
   "metadata": {},
   "source": [
    "## Welcome to the ISMB Ontology Tutorial hand-on session. \n",
    "\n",
    "Here, we will demonstrate how to use ontologies through the OWLAPI, classify ontologies, reason over them, and compute semantic similarity.\n",
    "\n",
    "If you have not done so, please download our data package from http://aber-owl.net/aber-owl/diseasephenotypes/ontology/ontology-tutorial.tar.gz\n",
    "\n",
    "To run a piece of code, just go to the box, and either press Shift+Enter, or click on the \"run cell\" button in the menu bar.\n",
    "\n",
    "__Please run the first cell before the tutorial!__\n",
    "This will download all the Java libraries we need.\n",
    "\n",
    "Go ahead now and run the first cell. It may take a while to download all the libraries, so you may want to get a coffee while it's running."
   ]
  },
  {
   "cell_type": "code",
   "execution_count": 1,
   "metadata": {},
   "outputs": [
    {
     "data": {
      "text/plain": [
       "No Outputs"
      ]
     },
     "execution_count": 1,
     "metadata": {},
     "output_type": "execute_result"
    }
   ],
   "source": [
    "// Download dependencies using Groovy's Grape system\n",
    "import groovy.grape.Grape\n",
    "Grape.grab(group:'org.semanticweb.elk', module:'elk-owlapi', version:'0.4.3')\n",
    "Grape.grab(group:'net.sourceforge.owlapi', module:'owlapi-api', version:'4.2.5')\n",
    "Grape.grab(group:'net.sourceforge.owlapi', module:'owlapi-apibinding', version:'4.2.5')\n",
    "Grape.grab(group:'net.sourceforge.owlapi', module:'owlapi-impl', version:'4.2.5')\n",
    "Grape.grab(group:'com.github.sharispe', module:'slib-sml', version:'0.9.1')"
   ]
  },
  {
   "cell_type": "markdown",
   "metadata": {},
   "source": [
    "We will now show some basic operations on ontologies. We need to import lots of classes from the OWLAPI, create an OWL ontology manager, load the ontology, and start exploring a bit.\n",
    "\n",
    "The code below may need to be modified a bit. In the line `ont = manager.loadOntologyFromOntologyDocument(new IRI(\"file:merged-phenomenet.owl\"))`, please change the path to where you have extracted the content of our data package. For example, if you extracted the content of our data package to `/tmp/`, replace `file:merged-phenomenet.owl` with `file:/tmp/merged-phenomenet.owl`."
   ]
  },
  {
   "cell_type": "code",
   "execution_count": 2,
   "metadata": {},
   "outputs": [
    {
     "data": {
      "text/html": [
       "224748"
      ]
     },
     "execution_count": 2,
     "metadata": {},
     "output_type": "execute_result"
    }
   ],
   "source": [
    "// opens ontology file and prints the number of classes\n",
    "\n",
    "// import what we need\n",
    "import java.net.*\n",
    "import org.semanticweb.owlapi.model.parameters.*\n",
    "import org.semanticweb.elk.owlapi.ElkReasonerFactory;\n",
    "import org.semanticweb.elk.owlapi.ElkReasonerConfiguration\n",
    "import org.semanticweb.elk.reasoner.config.*\n",
    "import org.semanticweb.owlapi.apibinding.OWLManager;\n",
    "import org.semanticweb.owlapi.reasoner.*\n",
    "import org.semanticweb.owlapi.reasoner.structural.StructuralReasoner\n",
    "import org.semanticweb.owlapi.vocab.OWLRDFVocabulary;\n",
    "import org.semanticweb.owlapi.model.*;\n",
    "import org.semanticweb.owlapi.io.*;\n",
    "import org.semanticweb.owlapi.owllink.*;\n",
    "import org.semanticweb.owlapi.util.*;\n",
    "import org.semanticweb.owlapi.search.*;\n",
    "import org.semanticweb.owlapi.manchestersyntax.renderer.*;\n",
    "import org.semanticweb.owlapi.reasoner.structural.*\n",
    " \n",
    "// Let's load an ontology and output the number of classes\n",
    "// Create the ontology manager\n",
    "manager = OWLManager.createOWLOntologyManager()\n",
    "// create data factory (to create axioms, classes, etc.)\n",
    "fac = manager.getOWLDataFactory()\n",
    "// Load the latest version of the PhenomeNET Ontology; for more information about this ontology, see http://journals.plos.org/ploscompbiol/article?id=10.1371/journal.pcbi.1005500\n",
    "ont = manager.loadOntologyFromOntologyDocument(new IRI(\"file:merged-phenomenet.owl\"))\n",
    "ont.getClassesInSignature(true).size()"
   ]
  },
  {
   "cell_type": "markdown",
   "metadata": {},
   "source": [
    "## Reasoning with ontologies\n",
    "\n",
    "Reasoning means we use inference rules that use the axioms within the ontology to extract new knowledge (which may or may not be explicitly stated). The most basic operation an OWL reasoner does is to perform _classification_, i.e., it identifies for each class its sub- and super-classes. OWL reasoners can also be used to query ontologies, and find, for example, sub-classes of named classes or complex class descriptions.\n",
    "\n",
    "Reasoning in OWL may be very complex. For example, automated reasoning in OWL 2 is 2NEXPTIME-complete, and will therefore not scale well on arbitrary ontologies. Fortunately, many optimized reasoners exist, so the theoretical limitations are not always a barrier in practise. Nevertheless, OWL 2 comes with several sub-langes (OWL 2 EL, QL, and RL) which guarantee more efficient automated reasoning. In particular the OWL 2 EL language profile is widely used in biological and biomedical ontologies.\n",
    "\n",
    "In the first box below, we will just create a new OWL reasoner object (using the OWL 2 EL reasoner [ELK](https://github.com/liveontologies/elk-reasoner)). In the second box, we will use this reasoner to find all the subclasses of the \"Mode of inheritance\" class in the Human Phenotype Ontology, and output the classes and their labels."
   ]
  },
  {
   "cell_type": "code",
   "execution_count": 3,
   "metadata": {},
   "outputs": [
    {
     "data": {
      "text/html": [
       "org&#8203;.semanticweb&#8203;.elk&#8203;.owlapi&#8203;.ElkReasoner&#8203;@162a400a"
      ]
     },
     "execution_count": 3,
     "metadata": {},
     "output_type": "execute_result"
    }
   ],
   "source": [
    "// import what we need\n",
    "import java.net.*\n",
    "import org.semanticweb.owlapi.model.parameters.*\n",
    "import org.semanticweb.elk.owlapi.ElkReasonerFactory;\n",
    "import org.semanticweb.elk.owlapi.ElkReasonerConfiguration\n",
    "import org.semanticweb.elk.reasoner.config.*\n",
    "import org.semanticweb.owlapi.apibinding.OWLManager;\n",
    "import org.semanticweb.owlapi.reasoner.*\n",
    "import org.semanticweb.owlapi.reasoner.structural.StructuralReasoner\n",
    "import org.semanticweb.owlapi.vocab.OWLRDFVocabulary;\n",
    "import org.semanticweb.owlapi.model.*;\n",
    "import org.semanticweb.owlapi.io.*;\n",
    "import org.semanticweb.owlapi.owllink.*;\n",
    "import org.semanticweb.owlapi.util.*;\n",
    "import org.semanticweb.owlapi.search.*;\n",
    "import org.semanticweb.owlapi.manchestersyntax.renderer.*;\n",
    "import org.semanticweb.owlapi.reasoner.structural.*\n",
    "\n",
    "ConsoleProgressMonitor progressMonitor = new ConsoleProgressMonitor()\n",
    "OWLReasonerConfiguration config = new SimpleConfiguration(progressMonitor)\n",
    "ElkReasonerFactory f1 = new ElkReasonerFactory()\n",
    "reasoner = f1.createReasoner(ont,config)\n"
   ]
  },
  {
   "cell_type": "code",
   "execution_count": 4,
   "metadata": {},
   "outputs": [
    {
     "name": "stdout",
     "output_type": "stream",
     "text": [
      "Loading ...\n",
      "    1%\n",
      "    2%\n",
      "    3%\n",
      "    4%\n",
      "    5%\n",
      "    6%\n",
      "    7%\n",
      "    8%\n",
      "    9%\n",
      "    10%\n",
      "    11%\n",
      "    12%\n",
      "    13%\n",
      "    14%\n",
      "    15%\n",
      "    16%\n",
      "    17%\n",
      "    18%\n",
      "    19%\n",
      "    20%\n",
      "    21%\n",
      "    22%\n",
      "    23%\n",
      "    24%\n",
      "    25%\n",
      "    26%\n",
      "    27%\n",
      "    28%\n",
      "    29%\n",
      "    30%\n",
      "    31%\n",
      "    32%\n",
      "    33%\n",
      "    34%\n",
      "    35%\n",
      "    36%\n",
      "    37%\n",
      "    38%\n",
      "    39%\n",
      "    40%\n",
      "    41%\n",
      "    42%\n",
      "    43%\n",
      "    44%\n",
      "    45%\n",
      "    46%\n",
      "    47%\n",
      "    48%\n",
      "    49%\n",
      "    50%\n",
      "    51%\n",
      "    52%\n",
      "    53%\n",
      "    54%\n",
      "    55%\n",
      "    56%\n",
      "    57%\n",
      "    58%\n",
      "    59%\n",
      "    60%\n",
      "    61%\n",
      "    62%\n",
      "    63%\n",
      "    64%\n",
      "    65%\n",
      "    66%\n",
      "    67%\n",
      "    68%\n",
      "    69%\n",
      "    70%\n",
      "    71%\n",
      "    72%\n",
      "    73%\n",
      "    74%\n",
      "    75%\n",
      "    76%\n",
      "    77%\n",
      "    78%\n",
      "    79%\n",
      "    80%\n",
      "    81%\n",
      "    82%\n",
      "    83%\n",
      "    84%\n",
      "    85%\n",
      "    86%\n",
      "    87%\n",
      "    88%\n",
      "    89%\n",
      "    90%\n",
      "    91%\n",
      "    92%\n",
      "    93%\n",
      "    94%\n",
      "    95%\n",
      "    96%\n",
      "    97%\n",
      "    98%\n",
      "    99%\n",
      "    ... finished\n",
      "Gonosomal inheritance (http://purl.obolibrary.org/obo/HP_0010985)\n",
      "Digenic inheritance (http://purl.obolibrary.org/obo/HP_0010984)\n",
      "Oligogenic inheritance (http://purl.obolibrary.org/obo/HP_0010983)\n",
      "Polygenic inheritance (http://purl.obolibrary.org/obo/HP_0010982)\n",
      "X-linked inheritance (http://purl.obolibrary.org/obo/HP_0001417)\n",
      "X-linked recessive inheritance (http://purl.obolibrary.org/obo/HP_0001419)\n",
      "Autosomal recessive inheritance (http://purl.obolibrary.org/obo/HP_0000007)\n",
      "Autosomal dominant (http://purl.obolibrary.org/obo/HP_0000006)\n",
      "Autosomal dominant inheritance (http://purl.obolibrary.org/obo/HP_0000006)\n",
      "Male-limited autosomal dominant (http://purl.obolibrary.org/obo/HP_0001475)\n",
      "Autosomal dominant contiguous gene syndrome (http://purl.obolibrary.org/obo/HP_0001452)\n",
      "Sex-limited autosomal dominant (http://purl.obolibrary.org/obo/HP_0001470)\n",
      "Familial predisposition (http://purl.obolibrary.org/obo/HP_0001472)\n",
      "Y-linked inheritance (http://purl.obolibrary.org/obo/HP_0001450)\n",
      "Autosomal dominant inheritance with paternal imprinting (http://purl.obolibrary.org/obo/HP_0012274)\n",
      "Autosomal dominant inheritance with maternal imprinting (http://purl.obolibrary.org/obo/HP_0012275)\n",
      "Somatic mutation (http://purl.obolibrary.org/obo/HP_0001428)\n",
      "Mitochondrial inheritance (http://purl.obolibrary.org/obo/HP_0001427)\n",
      "X-linked dominant inheritance (http://purl.obolibrary.org/obo/HP_0001423)\n",
      "Multifactorial inheritance (http://purl.obolibrary.org/obo/HP_0001426)\n",
      "Multifactorial Inheritance (http://purl.obolibrary.org/obo/HP_0001426)\n",
      "Genetic anticipation with paternal anticipation bias (http://purl.obolibrary.org/obo/HP_0003744)\n",
      "Heterogeneous (http://purl.obolibrary.org/obo/HP_0001425)\n",
      "Sporadic (http://purl.obolibrary.org/obo/HP_0003745)\n",
      "Somatic mosaicism (http://purl.obolibrary.org/obo/HP_0001442)\n",
      "Genetic anticipation (http://purl.obolibrary.org/obo/HP_0003743)\n",
      "Anticipation, Genetic (http://purl.obolibrary.org/obo/HP_0003743)\n",
      "Autosomal dominant somatic cell mutation (http://purl.obolibrary.org/obo/HP_0001444)\n",
      "Contiguous gene syndrome (http://purl.obolibrary.org/obo/HP_0001466)\n"
     ]
    },
    {
     "data": {
      "text/html": [
       "[&lt;http://purl&#8203;.obolibrary&#8203;.org/obo/HP&#8203;_0010985&gt;, &lt;http://purl&#8203;.obolibrary&#8203;.org/obo/HP&#8203;_0010984&gt;, &lt;http://purl&#8203;.obolibrary&#8203;.org/obo/HP&#8203;_0010983&gt;, &lt;http://purl&#8203;.obolibrary&#8203;.org/obo/HP&#8203;_0010982&gt;, &lt;http://purl&#8203;.obolibrary&#8203;.org/obo/HP&#8203;_0001417&gt;, &lt;http://purl&#8203;.obolibrary&#8203;.org/obo/HP&#8203;_0001419&gt;, &lt;http://purl&#8203;.obolibrary&#8203;.org/obo/HP&#8203;_0000007&gt;, &lt;http://purl&#8203;.obolibrary&#8203;.org/obo/HP&#8203;_0000006&gt;, &lt;http://purl&#8203;.obolibrary&#8203;.org/obo/HP&#8203;_0001475&gt;, &lt;http://purl&#8203;.obolibrary&#8203;.org/obo/HP&#8203;_0001452&gt;, &lt;http://purl&#8203;.obolibrary&#8203;.org/obo/HP&#8203;_0001470&gt;, &lt;http://purl&#8203;.obolibrary&#8203;.org/obo/HP&#8203;_0001472&gt;, &lt;http://purl&#8203;.obolibrary&#8203;.org/obo/HP&#8203;_0001450&gt;, &lt;http://purl&#8203;.obolibrary&#8203;.org/obo/HP&#8203;_0012274&gt;, &lt;http://purl&#8203;.obolibrary&#8203;.org/obo/HP&#8203;_0012275&gt;, &lt;http://purl&#8203;.obolibrary&#8203;.org/obo/HP&#8203;_0001428&gt;, &lt;http://purl&#8203;.obolibrary&#8203;.org/obo/HP&#8203;_0001427&gt;, &lt;http://purl&#8203;.obolibrary&#8203;.org/obo/HP&#8203;_0001423&gt;, &lt;http://purl&#8203;.obolibrary&#8203;.org/obo/HP&#8203;_0001426&gt;, &lt;http://purl&#8203;.obolibrary&#8203;.org/obo/HP&#8203;_0003744&gt;, &lt;http://purl&#8203;.obolibrary&#8203;.org/obo/HP&#8203;_0001425&gt;, &lt;http://purl&#8203;.obolibrary&#8203;.org/obo/HP&#8203;_0003745&gt;, &lt;http://purl&#8203;.obolibrary&#8203;.org/obo/HP&#8203;_0001442&gt;, owl:Nothing, &lt;http://purl&#8203;.obolibrary&#8203;.org/obo/HP&#8203;_0003743&gt;, &lt;http://purl&#8203;.obolibrary&#8203;.org/obo/HP&#8203;_0001444&gt;, &lt;http://purl&#8203;.obolibrary&#8203;.org/obo/HP&#8203;_0001466&gt;]"
      ]
     },
     "execution_count": 4,
     "metadata": {},
     "output_type": "execute_result"
    }
   ],
   "source": [
    "// import what we need\n",
    "import java.net.*\n",
    "import org.semanticweb.owlapi.model.parameters.*\n",
    "import org.semanticweb.elk.owlapi.ElkReasonerFactory;\n",
    "import org.semanticweb.elk.owlapi.ElkReasonerConfiguration\n",
    "import org.semanticweb.elk.reasoner.config.*\n",
    "import org.semanticweb.owlapi.apibinding.OWLManager;\n",
    "import org.semanticweb.owlapi.reasoner.*\n",
    "import org.semanticweb.owlapi.reasoner.structural.StructuralReasoner\n",
    "import org.semanticweb.owlapi.vocab.OWLRDFVocabulary;\n",
    "import org.semanticweb.owlapi.model.*;\n",
    "import org.semanticweb.owlapi.io.*;\n",
    "import org.semanticweb.owlapi.owllink.*;\n",
    "import org.semanticweb.owlapi.util.*;\n",
    "import org.semanticweb.owlapi.search.*;\n",
    "import org.semanticweb.owlapi.manchestersyntax.renderer.*;\n",
    "import org.semanticweb.owlapi.reasoner.structural.*\n",
    "\n",
    "// get all subclasses of \"Mode of inheritance\", including all descendant classes (direct set to \"false\")\n",
    "reasoner.getSubClasses(fac.getOWLClass(IRI.create(\"http://purl.obolibrary.org/obo/HP_0000005\")), false).getFlattened().each { cl ->\n",
    "  def ciri = cl.getIRI()\n",
    "  // now we get the label (rdfs:label) for each of the classes and print to stdout\n",
    "  EntitySearcher.getAnnotations(cl, ont, fac.getRDFSLabel()).each { a ->\n",
    "    OWLAnnotationValue val = a.getValue()\n",
    "    if(val instanceof OWLLiteral) {\n",
    "      def label = ((OWLLiteral)val).getLiteral()\n",
    "      println \"$label ($ciri)\"\n",
    "    }\n",
    "  }\n",
    "}\n"
   ]
  },
  {
   "cell_type": "markdown",
   "metadata": {},
   "source": [
    "Next, we will classify the ontology (from our data package) using the ELK reasoner, and store an inferred version of the ontology in the user home directory. The inferred version will be classified, i.e., all implied sub- and super-class relations are inferred and a transitive reduction is performed so that the resulting taxonomy does not contain redundant sub- or super-class relations.\n",
    "\n",
    "If you do not want to store the file in `$HOME/phenomenet-inferred.owl`, change the code below accordingly."
   ]
  },
  {
   "cell_type": "code",
   "execution_count": 5,
   "metadata": {},
   "outputs": [
    {
     "data": {
      "text/plain": [
       "No Outputs"
      ]
     },
     "execution_count": 5,
     "metadata": {},
     "output_type": "execute_result"
    }
   ],
   "source": [
    "// import what we need\n",
    "import java.net.*\n",
    "import org.semanticweb.owlapi.model.parameters.*\n",
    "import org.semanticweb.elk.owlapi.ElkReasonerFactory;\n",
    "import org.semanticweb.elk.owlapi.ElkReasonerConfiguration\n",
    "import org.semanticweb.elk.reasoner.config.*\n",
    "import org.semanticweb.owlapi.apibinding.OWLManager;\n",
    "import org.semanticweb.owlapi.reasoner.*\n",
    "import org.semanticweb.owlapi.reasoner.structural.StructuralReasoner\n",
    "import org.semanticweb.owlapi.vocab.OWLRDFVocabulary;\n",
    "import org.semanticweb.owlapi.model.*;\n",
    "import org.semanticweb.owlapi.io.*;\n",
    "import org.semanticweb.owlapi.owllink.*;\n",
    "import org.semanticweb.owlapi.util.*;\n",
    "import org.semanticweb.owlapi.search.*;\n",
    "import org.semanticweb.owlapi.manchestersyntax.renderer.*;\n",
    "import org.semanticweb.owlapi.reasoner.structural.*\n",
    "    \n",
    "// write the inferred version of the ontology to a file (phenomenet-inferred.owl in the user homedir)\n",
    "def homeDir = System.getProperty(\"user.home\")\n",
    "File outfile = new File (homeDir, \"phenomenet-inferred.owl\")\n",
    "def outont = manager.createOntology(new IRI(\"http://aber-owl.net/ismb-tutorial/phenomenet-inferred.owl\"))\n",
    "InferredOntologyGenerator generator = new InferredOntologyGenerator(reasoner, [new InferredSubClassAxiomGenerator()])\n",
    "generator.fillOntology(fac, outont)\n",
    "\n",
    "manager.saveOntology(outont, IRI.create(\"file:\"+outfile.getAbsolutePath()))\n"
   ]
  },
  {
   "cell_type": "markdown",
   "metadata": {},
   "source": [
    "## Semantic similarity\n",
    "\n",
    "We use the [Semantic Measures Library](http://semantic-measures-library.org) to compute semantic similarity over the inferred ontology. We first generate some basic objects we need to define semantic similarity, and populate the semantic graph (used by the Semantic Measures Library) with the inferred taxonomy generated above.\n",
    "\n",
    "Note: while it is possible to compute semantic similarity over the non-inferred version of the ontology, most similarity measures crucially rely on a graph structure that resembles (or approximates) the semantic content of the ontology. Using a non-inferred version will hide this content. We therefore _always_ recommend to apply semantic similarity measures on the fully inferred version of an ontology."
   ]
  },
  {
   "cell_type": "code",
   "execution_count": 6,
   "metadata": {},
   "outputs": [
    {
     "data": {
      "text/html": [
       "http://aber-owl&#8203;.net/ismb-tutorial/\n",
       "Vertices\n",
       "\tTotal   : 0  \n",
       "Edges \t  : 0\n",
       "\n"
      ]
     },
     "execution_count": 6,
     "metadata": {},
     "output_type": "execute_result"
    }
   ],
   "source": [
    "import org.openrdf.model.vocabulary.*\n",
    "import slib.sglib.io.loader.*\n",
    "import slib.sml.sm.core.metrics.ic.utils.*\n",
    "import slib.sml.sm.core.utils.*\n",
    "import slib.sglib.io.loader.bio.obo.*\n",
    "import org.openrdf.model.URI\n",
    "import slib.graph.algo.extraction.rvf.instances.*\n",
    "import slib.sglib.algo.graph.utils.*\n",
    "import slib.utils.impl.Timer\n",
    "import slib.graph.algo.extraction.utils.*\n",
    "import slib.graph.model.graph.*\n",
    "import slib.graph.model.repo.*\n",
    "import slib.graph.model.impl.graph.memory.*\n",
    "import slib.sml.sm.core.engine.*\n",
    "import slib.graph.io.conf.*\n",
    "import slib.graph.model.impl.graph.elements.*\n",
    "import slib.graph.algo.extraction.rvf.instances.impl.*\n",
    "import slib.graph.model.impl.repo.*\n",
    "import slib.graph.io.util.*\n",
    "import slib.graph.io.loader.*\n",
    "    \n",
    "factory = URIFactoryMemory.getSingleton()\n",
    "URI graph_uri = factory.getURI(\"http://aber-owl.net/ismb-tutorial/\")\n",
    "graph = new GraphMemory(graph_uri)\n"
   ]
  },
  {
   "cell_type": "code",
   "execution_count": 7,
   "metadata": {},
   "outputs": [
    {
     "name": "stderr",
     "output_type": "stream",
     "text": [
      "[SciJava-388b401d-Thread-org.scijava.jupyter.kernel.evaluator.ScijavaEvaluator] INFO slib.graph.io.loader.rdf.RDFLoader - -------------------------------------\n",
      "[SciJava-388b401d-Thread-org.scijava.jupyter.kernel.evaluator.ScijavaEvaluator] INFO slib.graph.io.loader.rdf.RDFLoader -  RDF Loader\n",
      "[SciJava-388b401d-Thread-org.scijava.jupyter.kernel.evaluator.ScijavaEvaluator] INFO slib.graph.io.loader.rdf.RDFLoader - -------------------------------------\n",
      "[SciJava-388b401d-Thread-org.scijava.jupyter.kernel.evaluator.ScijavaEvaluator] INFO slib.graph.io.loader.rdf.RDFLoader - Populate graph http://aber-owl.net/ismb-tutorial/ from /home/leechuck/phenomenet-inferred.owl\n",
      "[SciJava-388b401d-Thread-org.scijava.jupyter.kernel.evaluator.ScijavaEvaluator] INFO slib.graph.io.loader.rdf.RDFLoader - Parser loaded for: RDF/XML (mimeTypes=application/rdf+xml, application/xml; ext=rdf, rdfs, owl, xml)\n",
      "[SciJava-388b401d-Thread-org.scijava.jupyter.kernel.evaluator.ScijavaEvaluator] INFO slib.graph.io.loader.rdf.RDFLoader - Parsing RDF file...\n",
      "[SciJava-388b401d-Thread-org.scijava.jupyter.kernel.evaluator.ScijavaEvaluator] INFO slib.graph.io.loader.rdf.SlibRdfHandler - Start Process\n",
      "[SciJava-388b401d-Thread-org.scijava.jupyter.kernel.evaluator.ScijavaEvaluator] INFO slib.graph.io.loader.rdf.SlibRdfHandler - 100000 statements already loaded\n",
      "[SciJava-388b401d-Thread-org.scijava.jupyter.kernel.evaluator.ScijavaEvaluator] INFO slib.graph.io.loader.rdf.SlibRdfHandler - Number of vertices: 36716\n",
      "[SciJava-388b401d-Thread-org.scijava.jupyter.kernel.evaluator.ScijavaEvaluator] INFO slib.graph.io.loader.rdf.SlibRdfHandler - Number of edges   : 100000\n",
      "[SciJava-388b401d-Thread-org.scijava.jupyter.kernel.evaluator.ScijavaEvaluator] INFO slib.graph.io.loader.rdf.SlibRdfHandler - 200000 statements already loaded\n",
      "[SciJava-388b401d-Thread-org.scijava.jupyter.kernel.evaluator.ScijavaEvaluator] INFO slib.graph.io.loader.rdf.SlibRdfHandler - Number of vertices: 79744\n",
      "[SciJava-388b401d-Thread-org.scijava.jupyter.kernel.evaluator.ScijavaEvaluator] INFO slib.graph.io.loader.rdf.SlibRdfHandler - Number of edges   : 200000\n",
      "[SciJava-388b401d-Thread-org.scijava.jupyter.kernel.evaluator.ScijavaEvaluator] INFO slib.graph.io.loader.rdf.SlibRdfHandler - 300000 statements already loaded\n",
      "[SciJava-388b401d-Thread-org.scijava.jupyter.kernel.evaluator.ScijavaEvaluator] INFO slib.graph.io.loader.rdf.SlibRdfHandler - Number of vertices: 115106\n",
      "[SciJava-388b401d-Thread-org.scijava.jupyter.kernel.evaluator.ScijavaEvaluator] INFO slib.graph.io.loader.rdf.SlibRdfHandler - Number of edges   : 300000\n",
      "[SciJava-388b401d-Thread-org.scijava.jupyter.kernel.evaluator.ScijavaEvaluator] INFO slib.graph.io.loader.rdf.SlibRdfHandler - 400000 statements already loaded\n",
      "[SciJava-388b401d-Thread-org.scijava.jupyter.kernel.evaluator.ScijavaEvaluator] INFO slib.graph.io.loader.rdf.SlibRdfHandler - Number of vertices: 157633\n",
      "[SciJava-388b401d-Thread-org.scijava.jupyter.kernel.evaluator.ScijavaEvaluator] INFO slib.graph.io.loader.rdf.SlibRdfHandler - Number of edges   : 400000\n",
      "[SciJava-388b401d-Thread-org.scijava.jupyter.kernel.evaluator.ScijavaEvaluator] INFO slib.graph.io.loader.rdf.SlibRdfHandler - 500000 statements already loaded\n",
      "[SciJava-388b401d-Thread-org.scijava.jupyter.kernel.evaluator.ScijavaEvaluator] INFO slib.graph.io.loader.rdf.SlibRdfHandler - Number of vertices: 189817\n",
      "[SciJava-388b401d-Thread-org.scijava.jupyter.kernel.evaluator.ScijavaEvaluator] INFO slib.graph.io.loader.rdf.SlibRdfHandler - Number of edges   : 500000\n",
      "[SciJava-388b401d-Thread-org.scijava.jupyter.kernel.evaluator.ScijavaEvaluator] INFO slib.graph.io.loader.rdf.SlibRdfHandler - 600000 statements already loaded\n",
      "[SciJava-388b401d-Thread-org.scijava.jupyter.kernel.evaluator.ScijavaEvaluator] INFO slib.graph.io.loader.rdf.SlibRdfHandler - Number of vertices: 220936\n",
      "[SciJava-388b401d-Thread-org.scijava.jupyter.kernel.evaluator.ScijavaEvaluator] INFO slib.graph.io.loader.rdf.SlibRdfHandler - Number of edges   : 600000\n",
      "[SciJava-388b401d-Thread-org.scijava.jupyter.kernel.evaluator.ScijavaEvaluator] INFO slib.graph.io.loader.rdf.SlibRdfHandler - Ending Process 612744 statements loaded \n",
      "[SciJava-388b401d-Thread-org.scijava.jupyter.kernel.evaluator.ScijavaEvaluator] INFO slib.graph.io.loader.rdf.SlibRdfHandler - vertices: 224751\n",
      "[SciJava-388b401d-Thread-org.scijava.jupyter.kernel.evaluator.ScijavaEvaluator] INFO slib.graph.io.loader.rdf.SlibRdfHandler - edges   : 612744\n",
      "[SciJava-388b401d-Thread-org.scijava.jupyter.kernel.evaluator.ScijavaEvaluator] INFO slib.graph.io.loader.rdf.SlibRdfHandler - Skipped (statement involving non URI ressources) : 0\n",
      "[SciJava-388b401d-Thread-org.scijava.jupyter.kernel.evaluator.ScijavaEvaluator] INFO slib.graph.io.loader.rdf.RDFLoader - Graph http://aber-owl.net/ismb-tutorial/ populated by RDF data \n",
      "[SciJava-388b401d-Thread-org.scijava.jupyter.kernel.evaluator.ScijavaEvaluator] INFO slib.graph.io.loader.rdf.RDFLoader - -------------------------------------\n"
     ]
    },
    {
     "data": {
      "text/html": [
       "http://aber-owl&#8203;.net/ismb-tutorial/\n",
       "Vertices\n",
       "\tTotal   : 224751  {e&#8203;.g&#8203;. http://purl&#8203;.obolibrary&#8203;.org/obo/HP&#8203;_0011770}\n",
       "Edges \t  : 612744\n",
       "\n"
      ]
     },
     "execution_count": 7,
     "metadata": {},
     "output_type": "execute_result"
    }
   ],
   "source": [
    "import org.openrdf.model.vocabulary.*\n",
    "import slib.sglib.io.loader.*\n",
    "import slib.sml.sm.core.metrics.ic.utils.*\n",
    "import slib.sml.sm.core.utils.*\n",
    "import slib.sglib.io.loader.bio.obo.*\n",
    "import org.openrdf.model.URI\n",
    "import slib.graph.algo.extraction.rvf.instances.*\n",
    "import slib.sglib.algo.graph.utils.*\n",
    "import slib.utils.impl.Timer\n",
    "import slib.graph.algo.extraction.utils.*\n",
    "import slib.graph.model.graph.*\n",
    "import slib.graph.model.repo.*\n",
    "import slib.graph.model.impl.graph.memory.*\n",
    "import slib.sml.sm.core.engine.*\n",
    "import slib.graph.io.conf.*\n",
    "import slib.graph.model.impl.graph.elements.*\n",
    "import slib.graph.algo.extraction.rvf.instances.impl.*\n",
    "import slib.graph.model.impl.repo.*\n",
    "import slib.graph.io.util.*\n",
    "import slib.graph.io.loader.*\n",
    "    \n",
    "def homeDir = System.getProperty(\"user.home\")\n",
    "File ontfile = new File (homeDir, \"phenomenet-inferred.owl\")\n",
    "GDataConf graphconf = new GDataConf(GFormat.RDF_XML, ontfile.getCanonicalPath())\n",
    "GraphLoaderGeneric.populate(graphconf, graph)\n"
   ]
  },
  {
   "cell_type": "markdown",
   "metadata": {},
   "source": [
    "Sometimes, ontologies (or the taxonomies underlying them) have more than one root (below `owl:Thing`). For example, the Gene Ontology has three roots, _Biological process_, _Molecular function_, and _Cellular Component_. To make classes comparable when they do not share a root (necessary for example in path-based similarity measures), we generate a new artificial root and make this the new root of our semantic graph."
   ]
  },
  {
   "cell_type": "code",
   "execution_count": 8,
   "metadata": {},
   "outputs": [
    {
     "name": "stderr",
     "output_type": "stream",
     "text": [
      "[SciJava-388b401d-Thread-org.scijava.jupyter.kernel.evaluator.ScijavaEvaluator] INFO slib.graph.algo.extraction.utils.GraphActionExecutor - -------------------------------------\n",
      "[SciJava-388b401d-Thread-org.scijava.jupyter.kernel.evaluator.ScijavaEvaluator] INFO slib.graph.algo.extraction.utils.GraphActionExecutor - Rerooting\n",
      "[SciJava-388b401d-Thread-org.scijava.jupyter.kernel.evaluator.ScijavaEvaluator] INFO slib.graph.algo.extraction.utils.GraphActionExecutor - -------------------------------------\n",
      "[SciJava-388b401d-Thread-org.scijava.jupyter.kernel.evaluator.ScijavaEvaluator] INFO slib.graph.algo.extraction.utils.GraphActionExecutor - Fetching root node, uri: http://aber-owl.net/ismb-tutorial/virtualRoot\n",
      "[SciJava-388b401d-Thread-org.scijava.jupyter.kernel.evaluator.ScijavaEvaluator] INFO slib.graph.algo.extraction.utils.RooterDAG - Rooting taxonomic Graph using http://aber-owl.net/ismb-tutorial/virtualRoot\n",
      "[SciJava-388b401d-Thread-org.scijava.jupyter.kernel.evaluator.ScijavaEvaluator] INFO slib.graph.algo.validator.dag.ValidatorDAG - Number of roots 3\n",
      "[SciJava-388b401d-Thread-org.scijava.jupyter.kernel.evaluator.ScijavaEvaluator] INFO slib.graph.algo.validator.dag.ValidatorDAG - Starting process from 168068 vertices\n",
      "[SciJava-388b401d-Thread-org.scijava.jupyter.kernel.evaluator.ScijavaEvaluator] INFO slib.graph.algo.validator.dag.ValidatorDAG - isDag : true\n",
      "[SciJava-388b401d-Thread-org.scijava.jupyter.kernel.evaluator.ScijavaEvaluator] INFO slib.graph.algo.extraction.utils.RooterDAG - Number of roots detected: 3\n",
      "[SciJava-388b401d-Thread-org.scijava.jupyter.kernel.evaluator.ScijavaEvaluator] INFO slib.graph.algo.extraction.utils.RooterDAG - Rooting performed using http://aber-owl.net/ismb-tutorial/virtualRoot as root 3 edges created\n",
      "[SciJava-388b401d-Thread-org.scijava.jupyter.kernel.evaluator.ScijavaEvaluator] INFO slib.graph.algo.validator.dag.ValidatorDAG - Number of roots 1\n",
      "[SciJava-388b401d-Thread-org.scijava.jupyter.kernel.evaluator.ScijavaEvaluator] INFO slib.graph.algo.validator.dag.ValidatorDAG - isDag : true\n",
      "[SciJava-388b401d-Thread-org.scijava.jupyter.kernel.evaluator.ScijavaEvaluator] INFO slib.graph.algo.extraction.utils.GraphActionExecutor - Rerooting performed\n",
      "[SciJava-388b401d-Thread-org.scijava.jupyter.kernel.evaluator.ScijavaEvaluator] INFO slib.graph.algo.extraction.utils.GraphActionExecutor - -------------------------------------\n"
     ]
    },
    {
     "data": {
      "text/plain": [
       "No Outputs"
      ]
     },
     "execution_count": 8,
     "metadata": {},
     "output_type": "execute_result"
    }
   ],
   "source": [
    "import org.openrdf.model.vocabulary.*\n",
    "import slib.sglib.io.loader.*\n",
    "import slib.sml.sm.core.metrics.ic.utils.*\n",
    "import slib.sml.sm.core.utils.*\n",
    "import slib.sglib.io.loader.bio.obo.*\n",
    "import org.openrdf.model.URI\n",
    "import slib.graph.algo.extraction.rvf.instances.*\n",
    "import slib.sglib.algo.graph.utils.*\n",
    "import slib.utils.impl.Timer\n",
    "import slib.graph.algo.extraction.utils.*\n",
    "import slib.graph.model.graph.*\n",
    "import slib.graph.model.repo.*\n",
    "import slib.graph.model.impl.graph.memory.*\n",
    "import slib.sml.sm.core.engine.*\n",
    "import slib.graph.io.conf.*\n",
    "import slib.graph.model.impl.graph.elements.*\n",
    "import slib.graph.algo.extraction.rvf.instances.impl.*\n",
    "import slib.graph.model.impl.repo.*\n",
    "import slib.graph.io.util.*\n",
    "import slib.graph.io.loader.*\n",
    "\n",
    "\n",
    "URI virtualRoot = factory.getURI(\"http://aber-owl.net/ismb-tutorial/virtualRoot\")\n",
    "graph.addV(virtualRoot)\n",
    "GAction rooting = new GAction(GActionType.REROOTING)\n",
    "rooting.addParameter(\"root_uri\", virtualRoot.stringValue())\n",
    "GraphActionExecutor.applyAction(factory, rooting, graph)\n"
   ]
  },
  {
   "cell_type": "markdown",
   "metadata": {},
   "source": [
    "Now we configure the semantic similarity measure we want to use.\n",
    "\n",
    "Because we do not have instances, we use only the ontology structure to determine how specific a class is (`IC_Conf_Topo` below for use of a specificity measure based only on the topology of the semantic graph). We use Resnik's similarity measure (\"similarity of two classes is the specificity value of their most specific common ancestor\")."
   ]
  },
  {
   "cell_type": "code",
   "execution_count": 9,
   "metadata": {},
   "outputs": [
    {
     "name": "stderr",
     "output_type": "stream",
     "text": [
      "[SciJava-388b401d-Thread-org.scijava.jupyter.kernel.evaluator.ScijavaEvaluator] INFO slib.sml.sm.core.engine.SM_Engine - ================================================================\n",
      "[SciJava-388b401d-Thread-org.scijava.jupyter.kernel.evaluator.ScijavaEvaluator] INFO slib.sml.sm.core.engine.SM_Engine - Loading Semantic Measures Engine for graph http://aber-owl.net/ismb-tutorial/\n",
      "[SciJava-388b401d-Thread-org.scijava.jupyter.kernel.evaluator.ScijavaEvaluator] INFO slib.sml.sm.core.engine.SM_Engine - ================================================================\n",
      "[SciJava-388b401d-Thread-org.scijava.jupyter.kernel.evaluator.ScijavaEvaluator] INFO slib.sml.sm.core.engine.SM_Engine - Graph Info: \n",
      "[SciJava-388b401d-Thread-org.scijava.jupyter.kernel.evaluator.ScijavaEvaluator] INFO slib.sml.sm.core.engine.SM_Engine - http://aber-owl.net/ismb-tutorial/\n",
      "Vertices\n",
      "\tTotal   : 224752  {e.g. http://purl.obolibrary.org/obo/HP_0011770}\n",
      "Edges \t  : 612747\n",
      "\n",
      "\n",
      "[SciJava-388b401d-Thread-org.scijava.jupyter.kernel.evaluator.ScijavaEvaluator] INFO slib.sml.sm.core.engine.SM_Engine - ---------------------------------------------------------------\n",
      "[SciJava-388b401d-Thread-org.scijava.jupyter.kernel.evaluator.ScijavaEvaluator] INFO slib.sml.sm.core.engine.SM_Engine - Pre-processing\n",
      "[SciJava-388b401d-Thread-org.scijava.jupyter.kernel.evaluator.ScijavaEvaluator] INFO slib.sml.sm.core.engine.SM_Engine - ---------------------------------------------------------------\n",
      "[SciJava-388b401d-Thread-org.scijava.jupyter.kernel.evaluator.ScijavaEvaluator] INFO slib.sml.sm.core.engine.SM_Engine - Computing classes...\n",
      "[SciJava-388b401d-Thread-org.scijava.jupyter.kernel.evaluator.ScijavaEvaluator] INFO slib.sml.sm.core.engine.SM_Engine - Computing instances...\n",
      "[SciJava-388b401d-Thread-org.scijava.jupyter.kernel.evaluator.ScijavaEvaluator] INFO slib.sml.sm.core.engine.SM_Engine - Classes  : 224751\n",
      "[SciJava-388b401d-Thread-org.scijava.jupyter.kernel.evaluator.ScijavaEvaluator] INFO slib.sml.sm.core.engine.SM_Engine - Instances: 1\n",
      "[SciJava-388b401d-Thread-org.scijava.jupyter.kernel.evaluator.ScijavaEvaluator] INFO slib.sml.sm.core.engine.SM_Engine - ---------------------------------------------------------------\n",
      "[SciJava-388b401d-Thread-org.scijava.jupyter.kernel.evaluator.ScijavaEvaluator] INFO slib.sml.sm.core.engine.SM_Engine - Inferences \n",
      "[SciJava-388b401d-Thread-org.scijava.jupyter.kernel.evaluator.ScijavaEvaluator] INFO slib.sml.sm.core.engine.SM_Engine - ---------------------------------------------------------------\n",
      "[SciJava-388b401d-Thread-org.scijava.jupyter.kernel.evaluator.ScijavaEvaluator] INFO slib.sml.sm.core.engine.SM_Engine - Inferring ancestors...\n",
      "[SciJava-388b401d-Thread-org.scijava.jupyter.kernel.evaluator.ScijavaEvaluator] INFO slib.graph.algo.extraction.rvf.AncestorEngine - Checking Treatment coherency\n",
      "[SciJava-388b401d-Thread-org.scijava.jupyter.kernel.evaluator.ScijavaEvaluator] INFO slib.graph.algo.extraction.rvf.AncestorEngine - Incoherencies : 0\n",
      "[SciJava-388b401d-Thread-org.scijava.jupyter.kernel.evaluator.ScijavaEvaluator] INFO slib.sml.sm.core.engine.SM_Engine - Inferring descendants...\n",
      "[SciJava-388b401d-Thread-org.scijava.jupyter.kernel.evaluator.ScijavaEvaluator] INFO slib.graph.algo.extraction.rvf.DescendantEngine - Checking Treatment coherency\n",
      "[SciJava-388b401d-Thread-org.scijava.jupyter.kernel.evaluator.ScijavaEvaluator] INFO slib.graph.algo.extraction.rvf.DescendantEngine - Incoherencies : 0\n",
      "[SciJava-388b401d-Thread-org.scijava.jupyter.kernel.evaluator.ScijavaEvaluator] INFO slib.sml.sm.core.engine.SM_Engine - Inferring Conceptual Leaves...\n",
      "[SciJava-388b401d-Thread-org.scijava.jupyter.kernel.evaluator.ScijavaEvaluator] INFO slib.sml.sm.core.engine.SM_Engine - ---------------------------------------------------------------\n",
      "[SciJava-388b401d-Thread-org.scijava.jupyter.kernel.evaluator.ScijavaEvaluator] INFO slib.sml.sm.core.engine.SM_Engine - Engine initialized\n",
      "[SciJava-388b401d-Thread-org.scijava.jupyter.kernel.evaluator.ScijavaEvaluator] INFO slib.sml.sm.core.engine.SM_Engine - ================================================================\n"
     ]
    },
    {
     "data": {
      "text/html": [
       "slib&#8203;.sml&#8203;.sm&#8203;.core&#8203;.engine&#8203;.SM&#8203;_Engine&#8203;@6f4aa7a5"
      ]
     },
     "execution_count": 9,
     "metadata": {},
     "output_type": "execute_result"
    }
   ],
   "source": [
    "import org.openrdf.model.vocabulary.*\n",
    "import slib.sglib.io.loader.*\n",
    "import slib.sml.sm.core.metrics.ic.utils.*\n",
    "import slib.sml.sm.core.utils.*\n",
    "import slib.sglib.io.loader.bio.obo.*\n",
    "import org.openrdf.model.URI\n",
    "import slib.graph.algo.extraction.rvf.instances.*\n",
    "import slib.sglib.algo.graph.utils.*\n",
    "import slib.utils.impl.Timer\n",
    "import slib.graph.algo.extraction.utils.*\n",
    "import slib.graph.model.graph.*\n",
    "import slib.graph.model.repo.*\n",
    "import slib.graph.model.impl.graph.memory.*\n",
    "import slib.sml.sm.core.engine.*\n",
    "import slib.graph.io.conf.*\n",
    "import slib.graph.model.impl.graph.elements.*\n",
    "import slib.graph.algo.extraction.rvf.instances.impl.*\n",
    "import slib.graph.model.impl.repo.*\n",
    "import slib.graph.io.util.*\n",
    "import slib.graph.io.loader.*\n",
    "\n",
    "// configure the semantic similarity measure: use Resnik's (extrinsic) information content measure, and Resnik's similarity measure\n",
    "icConf = new IC_Conf_Topo(\"Sanchez\", SMConstants.FLAG_ICI_SANCHEZ_2011)\n",
    "smConfPairwise = new SMconf(\"Resnik\", SMConstants.FLAG_SIM_PAIRWISE_DAG_NODE_RESNIK_1995 )\n",
    "smConfPairwise.setICconf(icConf)\n",
    "\n",
    "// initialize the engine\n",
    "engine = new SM_Engine(graph)\n",
    "\n"
   ]
  },
  {
   "cell_type": "markdown",
   "metadata": {},
   "source": [
    "Now we can compare some classes and determine how similar they are. Feel free to change the code to some new classes and see how the similarity changes.\n",
    "\n",
    "You can use classes from the Human Phenotype Ontology (HPO) and the Mammalian Phenotype Ontology (MPO) for similarity computation between phenotypes. Since we are using the PhenomeNET ontology (see [our paper](http://journals.plos.org/ploscompbiol/article?id=10.1371/journal.pcbi.1005500)), classes in both ontologies are actually comparable."
   ]
  },
  {
   "cell_type": "code",
   "execution_count": 10,
   "metadata": {},
   "outputs": [
    {
     "name": "stderr",
     "output_type": "stream",
     "text": [
      "[SciJava-388b401d-Thread-org.scijava.jupyter.kernel.evaluator.ScijavaEvaluator] INFO slib.sml.sm.core.engine.SM_Engine - ---------------------------------------------------------------\n",
      "[SciJava-388b401d-Thread-org.scijava.jupyter.kernel.evaluator.ScijavaEvaluator] INFO slib.sml.sm.core.engine.SM_Engine - computing IC Sanchez\n",
      "[SciJava-388b401d-Thread-org.scijava.jupyter.kernel.evaluator.ScijavaEvaluator] INFO slib.sml.sm.core.engine.SM_Engine - ---------------------------------------------------------------\n",
      "[SciJava-388b401d-Thread-org.scijava.jupyter.kernel.evaluator.ScijavaEvaluator] INFO slib.sml.sm.core.engine.SM_Engine - Class name slib.sml.sm.core.metrics.ic.topo.ICi_sanchez_2011\n",
      "[SciJava-388b401d-Thread-org.scijava.jupyter.kernel.evaluator.ScijavaEvaluator] INFO slib.sml.sm.core.engine.SM_Engine - Computing Nb Reachable Leaves : start\n",
      "[SciJava-388b401d-Thread-org.scijava.jupyter.kernel.evaluator.ScijavaEvaluator] INFO slib.graph.algo.extraction.rvf.DescendantEngine - Retrieving all reachable leaves\n",
      "[SciJava-388b401d-Thread-org.scijava.jupyter.kernel.evaluator.ScijavaEvaluator] INFO slib.graph.algo.extraction.rvf.DescendantEngine - Propagation of leave counts start from 168068 leaves on 224752 concepts\n",
      "[SciJava-388b401d-Thread-org.scijava.jupyter.kernel.evaluator.ScijavaEvaluator] INFO slib.sml.sm.core.engine.SM_Engine - Computing Nb Reachable Leaves : end\n",
      "[SciJava-388b401d-Thread-org.scijava.jupyter.kernel.evaluator.ScijavaEvaluator] INFO slib.sml.sm.core.engine.SM_Engine - Checking null or infinite in the ICs computed\n",
      "[SciJava-388b401d-Thread-org.scijava.jupyter.kernel.evaluator.ScijavaEvaluator] INFO slib.sml.sm.core.engine.SM_Engine - ic Sanchez computed\n",
      "[SciJava-388b401d-Thread-org.scijava.jupyter.kernel.evaluator.ScijavaEvaluator] INFO slib.sml.sm.core.engine.SM_Engine - ---------------------------------------------------------------\n"
     ]
    },
    {
     "name": "stdout",
     "output_type": "stream",
     "text": [
      "Similarity between 'Ear pain' and 'mid frequency hearing loss': 8.617973362046424\n"
     ]
    },
    {
     "data": {
      "text/plain": [
       "No Outputs"
      ]
     },
     "execution_count": 10,
     "metadata": {},
     "output_type": "execute_result"
    }
   ],
   "source": [
    "// similarity between two classes from HPO\n",
    "cl1 = factory.getURI(\"http://purl.obolibrary.org/obo/HP_0030766\") // Ear pain\n",
    "cl2 = factory.getURI(\"http://purl.obolibrary.org/obo/HP_0012781\") // mid frequency hearing loss\n",
    "println \"Similarity between 'Ear pain' and 'mid frequency hearing loss': \"+engine.compare(smConfPairwise, cl1, cl2)\n"
   ]
  },
  {
   "cell_type": "code",
   "execution_count": 11,
   "metadata": {},
   "outputs": [
    {
     "name": "stdout",
     "output_type": "stream",
     "text": [
      "Similarity between 'Ear pain' and 'tetralogy of fallot': 5.755799731300896\n"
     ]
    },
    {
     "data": {
      "text/plain": [
       "No Outputs"
      ]
     },
     "execution_count": 11,
     "metadata": {},
     "output_type": "execute_result"
    }
   ],
   "source": [
    "// similarity between two classes from HPO\n",
    "cl2 = factory.getURI(\"http://purl.obolibrary.org/obo/HP_0001636\") // tetralogy of fallot\n",
    "println \"Similarity between 'Ear pain' and 'tetralogy of fallot': \"+engine.compare(smConfPairwise, cl1, cl2)\n"
   ]
  },
  {
   "cell_type": "code",
   "execution_count": 12,
   "metadata": {},
   "outputs": [
    {
     "name": "stdout",
     "output_type": "stream",
     "text": [
      "Similarity between 'abnormal cardiac muscle relaxation' (MP) and 'tetralogy of fallot' (HP): 6.185691113293361\n"
     ]
    },
    {
     "data": {
      "text/plain": [
       "No Outputs"
      ]
     },
     "execution_count": 12,
     "metadata": {},
     "output_type": "execute_result"
    }
   ],
   "source": [
    "// similarity between two classes, one from HPO and one from MP\n",
    "cl1 = factory.getURI(\"http://purl.obolibrary.org/obo/MP_0004084\") // abnormal cardiac muscle relaxation\n",
    "cl2 = factory.getURI(\"http://purl.obolibrary.org/obo/HP_0001636\") // tetralogy of fallot\n",
    "println \"Similarity between 'abnormal cardiac muscle relaxation' (MP) and 'tetralogy of fallot' (HP): \"+engine.compare(smConfPairwise, cl1, cl2)\n"
   ]
  },
  {
   "cell_type": "code",
   "execution_count": 13,
   "metadata": {},
   "outputs": [
    {
     "name": "stdout",
     "output_type": "stream",
     "text": [
      "Similarity between 'ventricular septal defect' (MP) and 'tetralogy of fallot' (HP): 11.744447815899305\n"
     ]
    },
    {
     "data": {
      "text/plain": [
       "No Outputs"
      ]
     },
     "execution_count": 13,
     "metadata": {},
     "output_type": "execute_result"
    }
   ],
   "source": [
    "// similarity between two classes, one from HPO and one from MP\n",
    "cl1 = factory.getURI(\"http://purl.obolibrary.org/obo/MP_0010402\") // ventricular septal defect\n",
    "println \"Similarity between 'ventricular septal defect' (MP) and 'tetralogy of fallot' (HP): \"+engine.compare(smConfPairwise, cl1, cl2)\n"
   ]
  },
  {
   "cell_type": "markdown",
   "metadata": {},
   "source": [
    "So far, we have only looked at comparisons between two individual classes. This may be nice if we just want to understand how the classes in an ontology are related, but usually we want to compare _things that are annotated with classes_ from an ontology.\n",
    "\n",
    "We now download mouse phenotypes resulting from single gene knockouts (note: replace `http://www.informatics.jax.org/downloads/reports/MGI_GenePheno.rpt` with a `file:...` URL in case of slow Internet connection; you can find the file `MGI_GenePheno.rpt` in our data package), and add each gene as an instance of its phenotype classes (using an `rdf:type` edge). \n",
    "\n",
    "Important: this is __not__ the right way to do this in an ontology but is an artifact of the Semantic Measures Library. When building an ontology, a _gene_ is not an _instance_ of a phenotype, but will be related to the phenotype through other kinds of relations. In the Semantic Measures Library, we will treat them as instances, however."
   ]
  },
  {
   "cell_type": "code",
   "execution_count": 14,
   "metadata": {},
   "outputs": [
    {
     "data": {
      "text/plain": [
       "No Outputs"
      ]
     },
     "execution_count": 14,
     "metadata": {},
     "output_type": "execute_result"
    }
   ],
   "source": [
    "import org.openrdf.model.vocabulary.*\n",
    "import slib.sglib.io.loader.*\n",
    "import slib.sml.sm.core.metrics.ic.utils.*\n",
    "import slib.sml.sm.core.utils.*\n",
    "import slib.sglib.io.loader.bio.obo.*\n",
    "import org.openrdf.model.URI\n",
    "import slib.graph.algo.extraction.rvf.instances.*\n",
    "import slib.sglib.algo.graph.utils.*\n",
    "import slib.utils.impl.Timer\n",
    "import slib.graph.algo.extraction.utils.*\n",
    "import slib.graph.model.graph.*\n",
    "import slib.graph.model.repo.*\n",
    "import slib.graph.model.impl.graph.memory.*\n",
    "import slib.sml.sm.core.engine.*\n",
    "import slib.graph.io.conf.*\n",
    "import slib.graph.model.impl.graph.elements.*\n",
    "import slib.graph.algo.extraction.rvf.instances.impl.*\n",
    "import slib.graph.model.impl.repo.*\n",
    "import slib.graph.io.util.*\n",
    "import slib.graph.io.loader.*\n",
    "\n",
    "// now we download mouse phenotype annotations and add them to our graph as instances (using rdf:type)\n",
    "new URL (\"file:MGI_GenePheno.rpt\").getText().splitEachLine(\"\\t\") { line ->\n",
    "  def geneid = line[6]\n",
    "  def idUri = factory.getURI(\"http://phenomebrowser.net/ismb-tutorial/gene/\"+geneid)\n",
    "  def pheno = line[4].replaceAll(\":\",\"_\")\n",
    "  def phenoUri = factory.getURI(\"http://purl.obolibrary.org/obo/\"+pheno)\n",
    "  Edge e = new Edge(idUri, RDF.TYPE, phenoUri)\n",
    "  graph.addE(e)\n",
    "}\n"
   ]
  },
  {
   "cell_type": "markdown",
   "metadata": {},
   "source": [
    "In the presence of instances, we can change our class specificity measure. We now use Resnik's specificity measure, which is just the information content of a class (i.e., `-log(p(c))` where `p(c)` is the probability to have an instance annotated with the class. This is a specificity measure that relies on instances, and is therefore a _corpus-based_ measure (using `IC_Conf_Corpus` below).\n",
    "\n",
    "We also configure a group-wise measure now, using the Best-Matching Average strategy. This will allow us to compare sets of classes to sets of classes.\n",
    "\n",
    "Finally, the `InstanceAccessor` will allow us to identify all instances of our classes."
   ]
  },
  {
   "cell_type": "code",
   "execution_count": 15,
   "metadata": {},
   "outputs": [
    {
     "name": "stderr",
     "output_type": "stream",
     "text": [
      "[SciJava-388b401d-Thread-org.scijava.jupyter.kernel.evaluator.ScijavaEvaluator] INFO slib.sml.sm.core.engine.SM_Engine - ================================================================\n",
      "[SciJava-388b401d-Thread-org.scijava.jupyter.kernel.evaluator.ScijavaEvaluator] INFO slib.sml.sm.core.engine.SM_Engine - Loading Semantic Measures Engine for graph http://aber-owl.net/ismb-tutorial/\n",
      "[SciJava-388b401d-Thread-org.scijava.jupyter.kernel.evaluator.ScijavaEvaluator] INFO slib.sml.sm.core.engine.SM_Engine - ================================================================\n",
      "[SciJava-388b401d-Thread-org.scijava.jupyter.kernel.evaluator.ScijavaEvaluator] INFO slib.sml.sm.core.engine.SM_Engine - Graph Info: \n",
      "[SciJava-388b401d-Thread-org.scijava.jupyter.kernel.evaluator.ScijavaEvaluator] INFO slib.sml.sm.core.engine.SM_Engine - http://aber-owl.net/ismb-tutorial/\n",
      "Vertices\n",
      "\tTotal   : 236671  {e.g. http://purl.obolibrary.org/obo/HP_0011770}\n",
      "Edges \t  : 772600\n",
      "\n",
      "\n",
      "[SciJava-388b401d-Thread-org.scijava.jupyter.kernel.evaluator.ScijavaEvaluator] INFO slib.sml.sm.core.engine.SM_Engine - ---------------------------------------------------------------\n",
      "[SciJava-388b401d-Thread-org.scijava.jupyter.kernel.evaluator.ScijavaEvaluator] INFO slib.sml.sm.core.engine.SM_Engine - Pre-processing\n",
      "[SciJava-388b401d-Thread-org.scijava.jupyter.kernel.evaluator.ScijavaEvaluator] INFO slib.sml.sm.core.engine.SM_Engine - ---------------------------------------------------------------\n",
      "[SciJava-388b401d-Thread-org.scijava.jupyter.kernel.evaluator.ScijavaEvaluator] INFO slib.sml.sm.core.engine.SM_Engine - Computing classes...\n",
      "[SciJava-388b401d-Thread-org.scijava.jupyter.kernel.evaluator.ScijavaEvaluator] INFO slib.sml.sm.core.engine.SM_Engine - Computing instances...\n",
      "[SciJava-388b401d-Thread-org.scijava.jupyter.kernel.evaluator.ScijavaEvaluator] INFO slib.sml.sm.core.engine.SM_Engine - Classes  : 224834\n",
      "[SciJava-388b401d-Thread-org.scijava.jupyter.kernel.evaluator.ScijavaEvaluator] INFO slib.sml.sm.core.engine.SM_Engine - Instances: 11920\n",
      "[SciJava-388b401d-Thread-org.scijava.jupyter.kernel.evaluator.ScijavaEvaluator] INFO slib.sml.sm.core.engine.SM_Engine - ---------------------------------------------------------------\n",
      "[SciJava-388b401d-Thread-org.scijava.jupyter.kernel.evaluator.ScijavaEvaluator] INFO slib.sml.sm.core.engine.SM_Engine - Inferences \n",
      "[SciJava-388b401d-Thread-org.scijava.jupyter.kernel.evaluator.ScijavaEvaluator] INFO slib.sml.sm.core.engine.SM_Engine - ---------------------------------------------------------------\n",
      "[SciJava-388b401d-Thread-org.scijava.jupyter.kernel.evaluator.ScijavaEvaluator] INFO slib.sml.sm.core.engine.SM_Engine - Inferring ancestors...\n",
      "[SciJava-388b401d-Thread-org.scijava.jupyter.kernel.evaluator.ScijavaEvaluator] INFO slib.graph.algo.extraction.rvf.AncestorEngine - Checking Treatment coherency\n",
      "[SciJava-388b401d-Thread-org.scijava.jupyter.kernel.evaluator.ScijavaEvaluator] INFO slib.graph.algo.extraction.rvf.AncestorEngine - Incoherencies : 0\n",
      "[SciJava-388b401d-Thread-org.scijava.jupyter.kernel.evaluator.ScijavaEvaluator] INFO slib.sml.sm.core.engine.SM_Engine - Inferring descendants...\n",
      "[SciJava-388b401d-Thread-org.scijava.jupyter.kernel.evaluator.ScijavaEvaluator] INFO slib.graph.algo.extraction.rvf.DescendantEngine - Checking Treatment coherency\n",
      "[SciJava-388b401d-Thread-org.scijava.jupyter.kernel.evaluator.ScijavaEvaluator] INFO slib.graph.algo.extraction.rvf.DescendantEngine - Incoherencies : 0\n",
      "[SciJava-388b401d-Thread-org.scijava.jupyter.kernel.evaluator.ScijavaEvaluator] INFO slib.sml.sm.core.engine.SM_Engine - Inferring Conceptual Leaves...\n",
      "[SciJava-388b401d-Thread-org.scijava.jupyter.kernel.evaluator.ScijavaEvaluator] INFO slib.sml.sm.core.engine.SM_Engine - ---------------------------------------------------------------\n",
      "[SciJava-388b401d-Thread-org.scijava.jupyter.kernel.evaluator.ScijavaEvaluator] INFO slib.sml.sm.core.engine.SM_Engine - Engine initialized\n",
      "[SciJava-388b401d-Thread-org.scijava.jupyter.kernel.evaluator.ScijavaEvaluator] INFO slib.sml.sm.core.engine.SM_Engine - ================================================================\n"
     ]
    },
    {
     "data": {
      "text/html": [
       "slib&#8203;.graph&#8203;.algo&#8203;.extraction&#8203;.rvf&#8203;.instances&#8203;.impl&#8203;.InstanceAccessor&#8203;_RDF&#8203;_TYPE&#8203;@21c29c14"
      ]
     },
     "execution_count": 15,
     "metadata": {},
     "output_type": "execute_result"
    }
   ],
   "source": [
    "import org.openrdf.model.vocabulary.*\n",
    "import slib.sglib.io.loader.*\n",
    "import slib.sml.sm.core.metrics.ic.utils.*\n",
    "import slib.sml.sm.core.utils.*\n",
    "import slib.sglib.io.loader.bio.obo.*\n",
    "import org.openrdf.model.URI\n",
    "import slib.graph.algo.extraction.rvf.instances.*\n",
    "import slib.sglib.algo.graph.utils.*\n",
    "import slib.utils.impl.Timer\n",
    "import slib.graph.algo.extraction.utils.*\n",
    "import slib.graph.model.graph.*\n",
    "import slib.graph.model.repo.*\n",
    "import slib.graph.model.impl.graph.memory.*\n",
    "import slib.sml.sm.core.engine.*\n",
    "import slib.graph.io.conf.*\n",
    "import slib.graph.model.impl.graph.elements.*\n",
    "import slib.graph.algo.extraction.rvf.instances.impl.*\n",
    "import slib.graph.model.impl.repo.*\n",
    "import slib.graph.io.util.*\n",
    "import slib.graph.io.loader.*\n",
    "\n",
    "\n",
    "// now that we have instances/annotations, we switch to Resnik's information content measure\n",
    "icConf = new IC_Conf_Corpus(\"ResnikIC\", SMConstants.FLAG_IC_ANNOT_RESNIK_1995_NORMALIZED)\n",
    "smConfPairwise.setICconf(icConf)\n",
    "// using Best-Matching Average to merge annotations when comparing sets of classes\n",
    "smConfGroupwise = new SMconf(\"BMA\", SMConstants.FLAG_SIM_GROUPWISE_BMA)\n",
    "// and re-initialize the graph\n",
    "engine = new SM_Engine(graph)\n",
    "\n",
    "// we need this to find our instances again\n",
    "ia = new InstanceAccessor_RDF_TYPE(graph)\n",
    "\n"
   ]
  },
  {
   "cell_type": "markdown",
   "metadata": {},
   "source": [
    "We can now compute again similarity between two classes. Note how the similarity values change. Feel free to experiment with this and compare different classes."
   ]
  },
  {
   "cell_type": "code",
   "execution_count": 16,
   "metadata": {},
   "outputs": [
    {
     "name": "stderr",
     "output_type": "stream",
     "text": [
      "[SciJava-388b401d-Thread-org.scijava.jupyter.kernel.evaluator.ScijavaEvaluator] INFO slib.sml.sm.core.engine.SM_Engine - ---------------------------------------------------------------\n",
      "[SciJava-388b401d-Thread-org.scijava.jupyter.kernel.evaluator.ScijavaEvaluator] INFO slib.sml.sm.core.engine.SM_Engine - computing IC ResnikIC\n",
      "[SciJava-388b401d-Thread-org.scijava.jupyter.kernel.evaluator.ScijavaEvaluator] INFO slib.sml.sm.core.engine.SM_Engine - ---------------------------------------------------------------\n",
      "[SciJava-388b401d-Thread-org.scijava.jupyter.kernel.evaluator.ScijavaEvaluator] INFO slib.sml.sm.core.engine.SM_Engine - Class name slib.sml.sm.core.metrics.ic.annot.IC_annot_resnik_1995_Normalized\n",
      "[SciJava-388b401d-Thread-org.scijava.jupyter.kernel.evaluator.ScijavaEvaluator] INFO slib.sml.sm.core.engine.SM_Engine - Checking null or infinite in the ICs computed\n",
      "[SciJava-388b401d-Thread-org.scijava.jupyter.kernel.evaluator.ScijavaEvaluator] INFO slib.sml.sm.core.engine.SM_Engine - ic ResnikIC computed\n",
      "[SciJava-388b401d-Thread-org.scijava.jupyter.kernel.evaluator.ScijavaEvaluator] INFO slib.sml.sm.core.engine.SM_Engine - ---------------------------------------------------------------\n"
     ]
    },
    {
     "name": "stdout",
     "output_type": "stream",
     "text": [
      "Similarity (Resnik) between 'abnormal cardiac muscle relaxation' (MP) and 'tetralogy of fallot' (HP): 0.30813949328272866\n"
     ]
    },
    {
     "data": {
      "text/plain": [
       "No Outputs"
      ]
     },
     "execution_count": 16,
     "metadata": {},
     "output_type": "execute_result"
    }
   ],
   "source": [
    "// similarity between two classes, one from HPO and one from MP\n",
    "cl1 = factory.getURI(\"http://purl.obolibrary.org/obo/MP_0004084\") // abnormal cardiac muscle relaxation\n",
    "cl2 = factory.getURI(\"http://purl.obolibrary.org/obo/HP_0001636\") // tetralogy of fallot\n",
    "println \"Similarity (Resnik) between 'abnormal cardiac muscle relaxation' (MP) and 'tetralogy of fallot' (HP): \"+engine.compare(smConfPairwise, cl1, cl2)\n"
   ]
  },
  {
   "cell_type": "code",
   "execution_count": 17,
   "metadata": {},
   "outputs": [
    {
     "name": "stdout",
     "output_type": "stream",
     "text": [
      "Similarity (Resnik) between 'ventricular septal defect' (MP) and 'tetralogy of fallot' (HP): 0.5646253254744539\n"
     ]
    },
    {
     "data": {
      "text/plain": [
       "No Outputs"
      ]
     },
     "execution_count": 17,
     "metadata": {},
     "output_type": "execute_result"
    }
   ],
   "source": [
    "// similarity between two classes, one from HPO and one from MP\n",
    "cl1 = factory.getURI(\"http://purl.obolibrary.org/obo/MP_0010402\") // ventricular septal defect\n",
    "println \"Similarity (Resnik) between 'ventricular septal defect' (MP) and 'tetralogy of fallot' (HP): \"+engine.compare(smConfPairwise, cl1, cl2)\n"
   ]
  },
  {
   "cell_type": "markdown",
   "metadata": {},
   "source": [
    "With the presence of mouse genes as instances in our semantic graph, we can do some more sophisticated analyses. Here, we define a patient through a set of phenotypes (i.e., clinical signs and symptoms). The patient has a rare, heritable form of macular dystrophy without known etiology (see https://www.omim.org/entry/153840). We hypothesize that there may be a mouse knockout that resembles this disease, and possibly the human ortholog of the mouse gene may also be involved in this form of macular dystrophy.\n",
    "\n",
    "We compare our patient to _all_ instances in our graph (i.e., all mouse knockouts) using our measure of phenotypic similarity. We then sort the resulting list by their similarity score in descending order, and output the top 10 predictions."
   ]
  },
  {
   "cell_type": "code",
   "execution_count": 18,
   "metadata": {},
   "outputs": [
    {
     "name": "stdout",
     "output_type": "stream",
     "text": [
      "Highest ranking genes for patient 1 (macular dystrophy): [{gene=http://phenomebrowser.net/ismb-tutorial/gene/MGI:5792188, sim=0.555727647932527}, {gene=http://phenomebrowser.net/ismb-tutorial/gene/MGI:1097692, sim=0.5431383232964837}, {gene=http://phenomebrowser.net/ismb-tutorial/gene/MGI:1915084, sim=0.5280340046035727}, {gene=http://phenomebrowser.net/ismb-tutorial/gene/MGI:2384871, sim=0.5205086159113611}, {gene=http://phenomebrowser.net/ismb-tutorial/gene/MGI:97525, sim=0.5071305150463405}, {gene=http://phenomebrowser.net/ismb-tutorial/gene/MGI:2685267, sim=0.5025602302127239}, {gene=http://phenomebrowser.net/ismb-tutorial/gene/MGI:1194883, sim=0.4988547597029712}, {gene=http://phenomebrowser.net/ismb-tutorial/gene/MGI:95793, sim=0.4982405736854383}, {gene=http://phenomebrowser.net/ismb-tutorial/gene/MGI:2448607, sim=0.49651622123948896}, {gene=http://phenomebrowser.net/ismb-tutorial/gene/MGI:1341818, sim=0.49466156566638453}, {gene=http://phenomebrowser.net/ismb-tutorial/gene/MGI:1339969, sim=0.4908704139533394}]\n"
     ]
    },
    {
     "data": {
      "text/plain": [
       "No Outputs"
      ]
     },
     "execution_count": 18,
     "metadata": {},
     "output_type": "execute_result"
    }
   ],
   "source": [
    "// that's our patient, with a single phenotype of an orphan disease, \"MACULAR DYSTROPHY, VITELLIFORM, 1; VMD1\" (https://www.omim.org/entry/153840)\n",
    "Set patient = [ factory.getURI(\"http://purl.obolibrary.org/obo/HP_0007754\"), factory.getURI(\"http://purl.obolibrary.org/obo/HP_0007663\"), factory.getURI(\"http://purl.obolibrary.org/obo/HP_0001123\"), \n",
    "  factory.getURI(\"http://purl.obolibrary.org/obo/HP_0000505\"), factory.getURI(\"http://purl.obolibrary.org/obo/HP_0007677\") ]\n",
    "// we store the similarity values in the results set\n",
    "def results = new LinkedHashSet()\n",
    "engine.getInstances().each { gene ->\n",
    "  def phenoSet = ia.getDirectClass(gene) // gets all the annotations of each instance (gene)\n",
    "  Expando exp = new Expando()\n",
    "  try { // this part might fail if the version of MP we use to compute similarity and the MP used for annotation is different; we ignore all errors for now\n",
    "    exp.sim = engine.compare(smConfGroupwise, smConfPairwise, phenoSet, patient)\n",
    "    exp.gene = gene\n",
    "    results.add(exp)\n",
    "  } catch (Exception E) {}\n",
    "}\n",
    "// sorting results by similarity (highest first) and output the top 10 predictions\n",
    "println \"Highest ranking genes for patient 1 (macular dystrophy): \"+results.sort { it.sim }.reverse()[0..10]\n"
   ]
  },
  {
   "cell_type": "markdown",
   "metadata": {},
   "source": [
    "We test this with another patient, this time with Wiskott-Aldrich Syndrome (https://www.omim.org/entry/301000). \n",
    "Wiskott-Aldrich Syndrome is a rare genetically-based disease in which the WAS gene is known to be causally involved. In the mouse, there is also a FOXP3 model that is used as a disease model for Wiskott-Aldrich syndrome (http://www.informatics.jax.org/allele/MGI:1857034)."
   ]
  },
  {
   "cell_type": "code",
   "execution_count": 19,
   "metadata": {},
   "outputs": [
    {
     "name": "stdout",
     "output_type": "stream",
     "text": [
      "Highest ranking genes for patient 2 (Wiskott Aldrich Syndrom): [{gene=http://phenomebrowser.net/ismb-tutorial/gene/MGI:102849, sim=0.523642522146082}, {gene=http://phenomebrowser.net/ismb-tutorial/gene/MGI:96548, sim=0.5129857666388256}, {gene=http://phenomebrowser.net/ismb-tutorial/gene/MGI:98941, sim=0.5104556800719073}, {gene=http://phenomebrowser.net/ismb-tutorial/gene/MGI:1349436, sim=0.5067188706622927}, {gene=http://phenomebrowser.net/ismb-tutorial/gene/MGI:5792227, sim=0.4944050876971044}, {gene=http://phenomebrowser.net/ismb-tutorial/gene/MGI:2180699, sim=0.49243035001589597}, {gene=http://phenomebrowser.net/ismb-tutorial/gene/MGI:1918576, sim=0.49134514696151654}, {gene=http://phenomebrowser.net/ismb-tutorial/gene/MGI:1891436, sim=0.4901183627926714}, {gene=http://phenomebrowser.net/ismb-tutorial/gene/MGI:87967, sim=0.4897964003972538}, {gene=http://phenomebrowser.net/ismb-tutorial/gene/MGI:96549, sim=0.4871038636898377}, {gene=http://phenomebrowser.net/ismb-tutorial/gene/MGI:105311, sim=0.4865147333518508}]\n"
     ]
    },
    {
     "data": {
      "text/plain": [
       "No Outputs"
      ]
     },
     "execution_count": 19,
     "metadata": {},
     "output_type": "execute_result"
    }
   ],
   "source": [
    "// another patient with Wiskott-Aldrich Syndrome\n",
    "Set patient = [ factory.getURI(\"http://purl.obolibrary.org/obo/HP_0000112\"), factory.getURI(\"http://purl.obolibrary.org/obo/HP_0000225\"), factory.getURI(\"http://purl.obolibrary.org/obo/HP_0000246\"), factory.getURI(\"http://purl.obolibrary.org/obo/HP_0000388\"), factory.getURI(\"http://purl.obolibrary.org/obo/HP_0000421\"), factory.getURI(\"http://purl.obolibrary.org/obo/HP_0000964\"), factory.getURI(\"http://purl.obolibrary.org/obo/HP_0000967\"), factory.getURI(\"http://purl.obolibrary.org/obo/HP_0000979\"), factory.getURI(\"http://purl.obolibrary.org/obo/HP_0001287\"), factory.getURI(\"http://purl.obolibrary.org/obo/HP_0001419\"), factory.getURI(\"http://purl.obolibrary.org/obo/HP_0001873\"), factory.getURI(\"http://purl.obolibrary.org/obo/HP_0001878\"), factory.getURI(\"http://purl.obolibrary.org/obo/HP_0001888\"), factory.getURI(\"http://purl.obolibrary.org/obo/HP_0001891\"), factory.getURI(\"http://purl.obolibrary.org/obo/HP_0001983\"), factory.getURI(\"http://purl.obolibrary.org/obo/HP_0002037\"), factory.getURI(\"http://purl.obolibrary.org/obo/HP_0002090\"), factory.getURI(\"http://purl.obolibrary.org/obo/HP_0002248\"), factory.getURI(\"http://purl.obolibrary.org/obo/HP_0002249\"), factory.getURI(\"http://purl.obolibrary.org/obo/HP_0002783\"), factory.getURI(\"http://purl.obolibrary.org/obo/HP_0002788\"), factory.getURI(\"http://purl.obolibrary.org/obo/HP_0002848\"), factory.getURI(\"http://purl.obolibrary.org/obo/HP_0002850\"), factory.getURI(\"http://purl.obolibrary.org/obo/HP_0002963\"), factory.getURI(\"http://purl.obolibrary.org/obo/HP_0002971\"), factory.getURI(\"http://purl.obolibrary.org/obo/HP_0003010\"), factory.getURI(\"http://purl.obolibrary.org/obo/HP_0003212\"), factory.getURI(\"http://purl.obolibrary.org/obo/HP_0003261\"), factory.getURI(\"http://purl.obolibrary.org/obo/HP_0005310\"), factory.getURI(\"http://purl.obolibrary.org/obo/HP_0005537\"), factory.getURI(\"http://purl.obolibrary.org/obo/HP_0011944\"), factory.getURI(\"http://purl.obolibrary.org/obo/HP_0040184\") ]\n",
    "def results = new LinkedHashSet()\n",
    "engine.getInstances().each { gene ->\n",
    "  def phenoSet = ia.getDirectClass(gene) // gets all the annotations of each instance (gene)\n",
    "  Expando exp = new Expando()\n",
    "  try { // this might fail if the version of MP we use to compute similarity and the MP used for annotation is different; we ignore this for now\n",
    "    exp.sim = engine.compare(smConfGroupwise, smConfPairwise, phenoSet, patient)\n",
    "    exp.gene = gene\n",
    "    results.add(exp)\n",
    "  } catch (Exception E) { }\n",
    "}\n",
    "// sorting results by similarity (highest first) and output the top 10 predictions\n",
    "println \"Highest ranking genes for patient 2 (Wiskott Aldrich Syndrom): \"+results.sort { it.sim }.reverse()[0..10] // includes MGI:1891436, FOXP3\n"
   ]
  },
  {
   "cell_type": "code",
   "execution_count": null,
   "metadata": {
    "collapsed": true
   },
   "outputs": [],
   "source": []
  }
 ],
 "metadata": {
  "kernelspec": {
   "display_name": "SciJava",
   "language": "groovy",
   "name": "scijava"
  },
  "language_info": {
   "codemirror_mode": "groovy",
   "file_extension": "",
   "mimetype": "",
   "name": "scijava",
   "nbconverter_exporter": "",
   "pygments_lexer": "groovy",
   "version": "1.0"
  }
 },
 "nbformat": 4,
 "nbformat_minor": 2
}
